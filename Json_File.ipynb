{
  "nbformat": 4,
  "nbformat_minor": 0,
  "metadata": {
    "colab": {
      "provenance": [],
      "authorship_tag": "ABX9TyNx7ONryvzG4UbDlIZWLu0L",
      "include_colab_link": true
    },
    "kernelspec": {
      "name": "python3",
      "display_name": "Python 3"
    },
    "language_info": {
      "name": "python"
    }
  },
  "cells": [
    {
      "cell_type": "markdown",
      "metadata": {
        "id": "view-in-github",
        "colab_type": "text"
      },
      "source": [
        "<a href=\"https://colab.research.google.com/github/Surajpanjiyar/Assignment_7/blob/main/Json_File.ipynb\" target=\"_parent\"><img src=\"https://colab.research.google.com/assets/colab-badge.svg\" alt=\"Open In Colab\"/></a>"
      ]
    },
    {
      "cell_type": "code",
      "source": [
        "import json\n",
        "\n",
        "employee_data = [\n",
        "    {\n",
        "        \"Name\": \"John Doe\",\n",
        "        \"DOB\": \"1990-05-15\",\n",
        "        \"Height\": 175,\n",
        "        \"City\": \"New York\",\n",
        "        \"State\": \"NY\"\n",
        "    },\n",
        "    {\n",
        "        \"Name\": \"Jane Smith\",\n",
        "        \"DOB\": \"1985-08-20\",\n",
        "        \"Height\": 162,\n",
        "        \"City\": \"Los Angeles\",\n",
        "        \"State\": \"CA\"\n",
        "    },\n",
        "    {\n",
        "        \"Name\": \"Bob Johnson\",\n",
        "        \"DOB\": \"1995-02-10\",\n",
        "        \"Height\": 180,\n",
        "        \"City\": \"Chicago\",\n",
        "        \"State\": \"IL\"\n",
        "    },\n",
        "    {\n",
        "        \"Name\": \"Alice Brown\",\n",
        "        \"DOB\": \"1988-11-30\",\n",
        "        \"Height\": 168,\n",
        "        \"City\": \"Houston\",\n",
        "        \"State\": \"TX\"\n",
        "    },\n",
        "    {\n",
        "        \"Name\": \"Chris Lee\",\n",
        "        \"DOB\": \"1992-04-05\",\n",
        "        \"Height\": 170,\n",
        "        \"City\": \"San Francisco\",\n",
        "        \"State\": \"CA\"\n",
        "    }\n",
        "]\n",
        "\n",
        "\n",
        "file_path = '/content/employee.json'\n",
        "\n",
        "\n",
        "with open(file_path, 'w') as json_file:\n",
        "    json.dump(employee_data, json_file)\n",
        "\n",
        "\n",
        "import os\n",
        "if os.path.exists(file_path):\n",
        "    print(f\"JSON file '{file_path}' has been created successfully.\")\n",
        "else:\n",
        "    print(f\"Failed to create JSON file '{file_path}'.\")\n"
      ],
      "metadata": {
        "id": "lkNonmGdHLNL",
        "outputId": "a8439683-4411-4372-f6ab-744f005803b9",
        "colab": {
          "base_uri": "https://localhost:8080/"
        }
      },
      "execution_count": 9,
      "outputs": [
        {
          "output_type": "stream",
          "name": "stdout",
          "text": [
            "JSON file '/content/employee.json' has been created successfully.\n"
          ]
        }
      ]
    },
    {
      "cell_type": "code",
      "source": [
        "import json\n",
        "\n",
        "class Employee:\n",
        "    def __init__(self, name, dob, height, city, state):\n",
        "        self.name = name\n",
        "        self.dob = dob\n",
        "        self.height = height\n",
        "        self.city = city\n",
        "        self.state = state\n",
        "\n",
        "    def __str__(self):\n",
        "        return f\"Name: {self.name}, DOB: {self.dob}, Height: {self.height}, City: {self.city}, State: {self.state}\"\n",
        "\n",
        "with open('employee.json', 'r') as file:\n",
        "    employee_data = json.load(file)\n",
        "\n",
        "employee_objects = []\n",
        "for data in employee_data:\n",
        "    employee_objects.append(Employee(data['Name'], data['DOB'], data['Height'], data['City'], data['State']))\n",
        "\n",
        "\n",
        "for employee in employee_objects:\n",
        "    print(employee)\n"
      ],
      "metadata": {
        "colab": {
          "base_uri": "https://localhost:8080/"
        },
        "id": "SuCFA8WPKpTX",
        "outputId": "4c33f9d6-1263-41c4-fc03-c4c74d39cf8a"
      },
      "execution_count": 10,
      "outputs": [
        {
          "output_type": "stream",
          "name": "stdout",
          "text": [
            "Name: John Doe, DOB: 1990-05-15, Height: 175, City: New York, State: NY\n",
            "Name: Jane Smith, DOB: 1985-08-20, Height: 162, City: Los Angeles, State: CA\n",
            "Name: Bob Johnson, DOB: 1995-02-10, Height: 180, City: Chicago, State: IL\n",
            "Name: Alice Brown, DOB: 1988-11-30, Height: 168, City: Houston, State: TX\n",
            "Name: Chris Lee, DOB: 1992-04-05, Height: 170, City: San Francisco, State: CA\n"
          ]
        }
      ]
    },
    {
      "cell_type": "code",
      "source": [
        "import json\n",
        "\n",
        "\n",
        "indian_states_and_capitals = {\n",
        "    \"Andhra Pradesh\": \"Amaravati\",\n",
        "    \"Tamil Nadu\": \"Chennai\",\n",
        "    \"Karnataka\": \"Bengaluru\",\n",
        "    \"Maharashtra\": \"Mumbai\",\n",
        "    \"Uttar Pradesh\": \"Lucknow\",\n",
        "    \"Kerala\": \"Thiruvananthapuram\",\n",
        "    \"Rajasthan\": \"Jaipur\"\n",
        "}\n",
        "\n",
        "\n",
        "file_path = 'indian_states.json'\n",
        "with open(file_path, 'w') as json_file:\n",
        "    json.dump(indian_states_and_capitals, json_file, indent=4)\n",
        "\n",
        "\n",
        "if json_file.closed:\n",
        "    print(f\"\\nData has been written to '{file_path}' successfully.\")\n",
        "else:\n",
        "    print(f\"\\nFailed to write data to '{file_path}'.\")\n",
        "\n",
        "print(\"Indian States and Capitals:\")\n",
        "for state, capital in indian_states_and_capitals.items():\n",
        "    print(f\"State: {state}, Capital: {capital}\")\n",
        "\n"
      ],
      "metadata": {
        "colab": {
          "base_uri": "https://localhost:8080/"
        },
        "id": "4RjSpfqUNLRI",
        "outputId": "98d179aa-81b9-42fb-da9d-97c5ec9bc2b6"
      },
      "execution_count": 11,
      "outputs": [
        {
          "output_type": "stream",
          "name": "stdout",
          "text": [
            "\n",
            "Data has been written to 'indian_states.json' successfully.\n",
            "Indian States and Capitals:\n",
            "State: Andhra Pradesh, Capital: Amaravati\n",
            "State: Tamil Nadu, Capital: Chennai\n",
            "State: Karnataka, Capital: Bengaluru\n",
            "State: Maharashtra, Capital: Mumbai\n",
            "State: Uttar Pradesh, Capital: Lucknow\n",
            "State: Kerala, Capital: Thiruvananthapuram\n",
            "State: Rajasthan, Capital: Jaipur\n"
          ]
        }
      ]
    },
    {
      "cell_type": "code",
      "source": [
        "class Dog:\n",
        "    def __init__(self, name, age, coat_color):\n",
        "        self.name = name\n",
        "        self.age = age\n",
        "        self.coat_color = coat_color\n",
        "\n",
        "    def describ(self):\n",
        "        print(f\"{self.name} is {self.age} years old.\")\n",
        "\n",
        "    def get_info(self):\n",
        "        print(f\"{self.name}'s coat color is {self.coat_color}.\")\n",
        "\n",
        "class Breed(Dog):\n",
        "    def __init__(self, name, age, coat_color, energy_level):\n",
        "        super().__init__(name, age, coat_color)\n",
        "        self.energy_level = energy_level\n",
        "\n",
        "    def play_fetch(self):\n",
        "        print(f\"{self.name} loves to play fetch!\")\n",
        "\n",
        "    def bark(self):\n",
        "        print(f\"{self.name} barks enthusiastically!\")\n",
        "\n",
        "class Bulldog(Dog):\n",
        "    def __init__(self, name, age, coat_color, weight):\n",
        "        super().__init__(name, age, coat_color)\n",
        "        self.weight = weight\n",
        "\n",
        "    def snore(self):\n",
        "        print(f\"{self.name} is known to snore loudly!\")\n",
        "\n",
        "    def guard_house(self):\n",
        "        print(f\"{self.name} is a good house guardian.\")\n",
        "\n",
        "\n",
        "dog1 = Dog(\"Rex\", 3, \"Brown\")\n",
        "dog2 = Breed(\"Max\", 2, \"White with brown spots\", \"High\")\n",
        "dog3 = Bulldog(\"Spike\", 5, \"Gray\", \"Heavy\")\n",
        "\n",
        "\n",
        "dog1.describ()\n",
        "dog1.get_info()\n",
        "\n",
        "dog2.describ()\n",
        "dog2.get_info()\n",
        "dog2.play_fetch()\n",
        "dog2.bark()\n",
        "\n",
        "dog3.describ()\n",
        "dog3.get_info()\n",
        "dog3.snore()\n",
        "dog3.guard_house()\n"
      ],
      "metadata": {
        "colab": {
          "base_uri": "https://localhost:8080/"
        },
        "id": "iRUr5Mt6SBYC",
        "outputId": "ff91fbae-de29-4e86-82cf-de9f366c618c"
      },
      "execution_count": 15,
      "outputs": [
        {
          "output_type": "stream",
          "name": "stdout",
          "text": [
            "Rex is 3 years old.\n",
            "Rex's coat color is Brown.\n",
            "Max is 2 years old.\n",
            "Max's coat color is White with brown spots.\n",
            "Max loves to play fetch!\n",
            "Max barks enthusiastically!\n",
            "Spike is 5 years old.\n",
            "Spike's coat color is Gray.\n",
            "Spike is known to snore loudly!\n",
            "Spike is a good house guardian.\n"
          ]
        }
      ]
    }
  ]
}